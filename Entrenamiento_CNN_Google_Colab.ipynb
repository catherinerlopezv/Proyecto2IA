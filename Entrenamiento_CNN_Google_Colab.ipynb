{
 "cells": [
  {
   "cell_type": "markdown",
   "id": "87048184",
   "metadata": {},
   "source": [
    "# 🧠 Entrenamiento CNN en Google Colab\n",
    "Este notebook permite entrenar un modelo CNN directamente en Google Colab usando imágenes almacenadas en tu Google Drive.\n",
    "\n",
    "Incluye:\n",
    "- Montaje de Google Drive\n",
    "- Limpieza de imágenes corruptas\n",
    "- Preprocesamiento con `ImageDataGenerator`\n",
    "- Entrenamiento del modelo CNN\n",
    "- Visualización de métricas\n",
    "- Guardado del modelo entrenado en tu Drive"
   ]
  },
  {
   "cell_type": "code",
   "execution_count": 1,
   "id": "7d599e54",
   "metadata": {},
   "outputs": [
    {
     "ename": "ModuleNotFoundError",
     "evalue": "No module named 'google.colab'",
     "output_type": "error",
     "traceback": [
      "\u001b[0;31m---------------------------------------------------------------------------\u001b[0m",
      "\u001b[0;31mModuleNotFoundError\u001b[0m                       Traceback (most recent call last)",
      "Cell \u001b[0;32mIn[1], line 2\u001b[0m\n\u001b[1;32m      1\u001b[0m \u001b[38;5;66;03m# 📂 Montar Google Drive\u001b[39;00m\n\u001b[0;32m----> 2\u001b[0m \u001b[38;5;28;01mfrom\u001b[39;00m \u001b[38;5;21;01mgoogle\u001b[39;00m\u001b[38;5;21;01m.\u001b[39;00m\u001b[38;5;21;01mcolab\u001b[39;00m \u001b[38;5;28;01mimport\u001b[39;00m drive\n\u001b[1;32m      3\u001b[0m drive\u001b[38;5;241m.\u001b[39mmount(\u001b[38;5;124m'\u001b[39m\u001b[38;5;124m/content/drive\u001b[39m\u001b[38;5;124m'\u001b[39m)\n",
      "\u001b[0;31mModuleNotFoundError\u001b[0m: No module named 'google.colab'"
     ]
    }
   ],
   "source": [
    "# 📂 Montar Google Drive\n",
    "from google.colab import drive\n",
    "drive.mount('/content/drive')"
   ]
  },
  {
   "cell_type": "code",
   "execution_count": null,
   "id": "f5f9a46f",
   "metadata": {},
   "outputs": [],
   "source": [
    "# 📁 Ruta al dataset y al modelo\n",
    "# Asegúrate de que tu estructura sea por carpetas: drive/MyDrive/mi_proyecto/dataset/train/happy, sad, etc.\n",
    "dataset_path = '/content/drive/MyDrive/mi_proyecto/dataset/train'\n",
    "modelo_path = '/content/drive/MyDrive/mi_proyecto/modelo_emociones.h5'"
   ]
  },
  {
   "cell_type": "code",
   "execution_count": null,
   "id": "cdd6750a",
   "metadata": {},
   "outputs": [],
   "source": [
    "# 🧹 Limpieza de imágenes corruptas\n",
    "import os\n",
    "from PIL import Image\n",
    "\n",
    "def limpiar_imagenes_invalidas(ruta):\n",
    "    for root, _, files in os.walk(ruta):\n",
    "        for f in files:\n",
    "            if f.lower().endswith((\".png\", \".jpg\", \".jpeg\")):\n",
    "                path = os.path.join(root, f)\n",
    "                try:\n",
    "                    img = Image.open(path)\n",
    "                    img.verify()\n",
    "                except Exception as e:\n",
    "                    print(f\"🗑️ Eliminada: {path} — Motivo: {e}\")\n",
    "                    os.remove(path)\n",
    "\n",
    "limpiar_imagenes_invalidas(dataset_path)"
   ]
  },
  {
   "cell_type": "code",
   "execution_count": null,
   "id": "05af8993",
   "metadata": {},
   "outputs": [],
   "source": [
    "# 🔄 Preprocesamiento del dataset\n",
    "import tensorflow as tf\n",
    "from tensorflow.keras.preprocessing.image import ImageDataGenerator\n",
    "\n",
    "train_datagen = ImageDataGenerator(\n",
    "    rescale=1./255,\n",
    "    validation_split=0.2,\n",
    "    rotation_range=10,\n",
    "    width_shift_range=0.1,\n",
    "    height_shift_range=0.1,\n",
    "    zoom_range=0.1,\n",
    "    horizontal_flip=True\n",
    ")\n",
    "\n",
    "val_datagen = ImageDataGenerator(rescale=1./255, validation_split=0.2)\n",
    "\n",
    "train_generator = train_datagen.flow_from_directory(\n",
    "    dataset_path,\n",
    "    target_size=(64, 64),\n",
    "    batch_size=32,\n",
    "    class_mode='categorical',\n",
    "    subset='training'\n",
    ")\n",
    "\n",
    "val_generator = val_datagen.flow_from_directory(\n",
    "    dataset_path,\n",
    "    target_size=(64, 64),\n",
    "    batch_size=32,\n",
    "    class_mode='categorical',\n",
    "    subset='validation'\n",
    ")"
   ]
  },
  {
   "cell_type": "code",
   "execution_count": null,
   "id": "31bbc5d5",
   "metadata": {},
   "outputs": [],
   "source": [
    "# 🧠 Definición y compilación del modelo CNN\n",
    "from tensorflow.keras.models import Sequential\n",
    "from tensorflow.keras.layers import Conv2D, MaxPooling2D, Flatten, Dense, Input\n",
    "from tensorflow.keras.optimizers import Adam\n",
    "\n",
    "num_clases = train_generator.num_classes\n",
    "\n",
    "model = Sequential([\n",
    "    Input(shape=(64, 64, 3)),\n",
    "    Conv2D(32, (3,3), activation='relu'),\n",
    "    MaxPooling2D(2,2),\n",
    "    Conv2D(64, (3,3), activation='relu'),\n",
    "    MaxPooling2D(2,2),\n",
    "    Flatten(),\n",
    "    Dense(128, activation='relu'),\n",
    "    Dense(num_clases, activation='softmax')\n",
    "])\n",
    "\n",
    "model.compile(optimizer=Adam(), loss='categorical_crossentropy', metrics=['accuracy'])\n",
    "model.summary()"
   ]
  },
  {
   "cell_type": "code",
   "execution_count": null,
   "id": "05e3cf2f",
   "metadata": {},
   "outputs": [],
   "source": [
    "# 🚀 Entrenamiento del modelo\n",
    "history = model.fit(\n",
    "    train_generator,\n",
    "    validation_data=val_generator,\n",
    "    epochs=10\n",
    ")"
   ]
  },
  {
   "cell_type": "code",
   "execution_count": null,
   "id": "8dc8e2fc",
   "metadata": {},
   "outputs": [],
   "source": [
    "# 💾 Guardar el modelo entrenado en Google Drive\n",
    "model.save(modelo_path)"
   ]
  },
  {
   "cell_type": "code",
   "execution_count": null,
   "id": "bc5a39ff",
   "metadata": {},
   "outputs": [],
   "source": [
    "# 📊 Visualización de métricas\n",
    "import matplotlib.pyplot as plt\n",
    "\n",
    "plt.plot(history.history['accuracy'], label='Entrenamiento')\n",
    "plt.plot(history.history['val_accuracy'], label='Validación')\n",
    "plt.title('Precisión')\n",
    "plt.xlabel('Época')\n",
    "plt.ylabel('Precisión')\n",
    "plt.legend()\n",
    "plt.show()\n",
    "\n",
    "plt.plot(history.history['loss'], label='Entrenamiento')\n",
    "plt.plot(history.history['val_loss'], label='Validación')\n",
    "plt.title('Pérdida')\n",
    "plt.xlabel('Época')\n",
    "plt.ylabel('Pérdida')\n",
    "plt.legend()\n",
    "plt.show()"
   ]
  }
 ],
 "metadata": {
  "kernelspec": {
   "display_name": "Python [conda env:base] *",
   "language": "python",
   "name": "conda-base-py"
  },
  "language_info": {
   "codemirror_mode": {
    "name": "ipython",
    "version": 3
   },
   "file_extension": ".py",
   "mimetype": "text/x-python",
   "name": "python",
   "nbconvert_exporter": "python",
   "pygments_lexer": "ipython3",
   "version": "3.12.2"
  }
 },
 "nbformat": 4,
 "nbformat_minor": 5
}
